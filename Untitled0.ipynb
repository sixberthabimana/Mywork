{
  "nbformat": 4,
  "nbformat_minor": 0,
  "metadata": {
    "colab": {
      "provenance": [],
      "authorship_tag": "ABX9TyO56CCZNKK1L1WgA92wKGty",
      "include_colab_link": true
    },
    "kernelspec": {
      "name": "python3",
      "display_name": "Python 3"
    },
    "language_info": {
      "name": "python"
    }
  },
  "cells": [
    {
      "cell_type": "markdown",
      "metadata": {
        "id": "view-in-github",
        "colab_type": "text"
      },
      "source": [
        "<a href=\"https://colab.research.google.com/github/sixberthabimana/Mywork/blob/main/Untitled0.ipynb\" target=\"_parent\"><img src=\"https://colab.research.google.com/assets/colab-badge.svg\" alt=\"Open In Colab\"/></a>"
      ]
    },
    {
      "cell_type": "markdown",
      "source": [],
      "metadata": {
        "id": "Db08oW28SZkF"
      }
    },
    {
      "cell_type": "code",
      "source": [],
      "metadata": {
        "id": "Bu34lVqoTal2"
      },
      "execution_count": 9,
      "outputs": []
    },
    {
      "cell_type": "code",
      "metadata": {
        "id": "25734470"
      },
      "source": [
        "# Construct API URL\n",
        "api_url = \"https://api.stackexchange.com/2.3/questions?order=desc&sort=activity&filter=default&site=stackoverflow\""
      ],
      "execution_count": 14,
      "outputs": []
    },
    {
      "cell_type": "code",
      "metadata": {
        "id": "4a39a2d1"
      },
      "source": [
        "# Fetch data\n",
        "response = requests.get(api_url)\n",
        "response.raise_for_status() # Raise an exception for bad status codes (4xx or 5xx)"
      ],
      "execution_count": 15,
      "outputs": []
    }
  ]
}